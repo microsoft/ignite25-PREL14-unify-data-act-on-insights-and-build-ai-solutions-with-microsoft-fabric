{
 "cells": [
  {
   "cell_type": "markdown",
   "id": "8643c07d-b111-48e7-90ce-05e2a1b4d9ac",
   "metadata": {
    "microsoft": {
     "language": "sql",
     "language_group": "sqldatawarehouse"
    },
    "nteract": {
     "transient": {
      "deleting": false
     }
    }
   },
   "source": [
    "# Lab 1 - Getting started"
   ]
  },
  {
   "cell_type": "markdown",
   "id": "fc06cc35-8d3c-49a8-aebb-b7d7830277da",
   "metadata": {
    "microsoft": {
     "language": "sql",
     "language_group": "sqldatawarehouse"
    },
    "nteract": {
     "transient": {
      "deleting": false
     }
    }
   },
   "source": [
    "### 1.3 - T-SQL notebooks"
   ]
  },
  {
   "cell_type": "code",
   "execution_count": null,
   "id": "5a6e3ecc-9573-4d2d-94a8-10e2020b1377",
   "metadata": {
    "microsoft": {
     "language": "sql",
     "language_group": "sqldatawarehouse"
    }
   },
   "outputs": [],
   "source": [
    "-- Step 1.3.10\n",
    "\n",
    "SELECT DB_NAME() AS DatabaseName"
   ]
  },
  {
   "cell_type": "markdown",
   "id": "e527f72c-d9c0-4c09-a1ba-3d81f74d47ba",
   "metadata": {
    "microsoft": {
     "language": "python",
     "language_group": "synapse_pyspark"
    },
    "nteract": {
     "transient": {
      "deleting": false
     }
    }
   },
   "source": [
    "# Lab 2 - Data warehouse DDL"
   ]
  },
  {
   "cell_type": "markdown",
   "id": "5fe77a71-7a48-47ee-82e4-65e470cb6dcb",
   "metadata": {
    "microsoft": {
     "language": "sql",
     "language_group": "sqldatawarehouse"
    },
    "nteract": {
     "transient": {
      "deleting": false
     }
    }
   },
   "source": [
    "### 2.1 - Creating schemas"
   ]
  },
  {
   "cell_type": "code",
   "execution_count": null,
   "id": "5adad0ff-fc19-4213-8949-9d15b20a016a",
   "metadata": {
    "microsoft": {
     "language": "sql",
     "language_group": "sqldatawarehouse"
    }
   },
   "outputs": [],
   "source": [
    "-- Step 2.1.3\n",
    "\n",
    "SELECT * FROM sys.schemas"
   ]
  },
  {
   "cell_type": "code",
   "execution_count": null,
   "id": "06c1b7b9-aff5-487c-be67-d009bc782016",
   "metadata": {
    "microsoft": {
     "language": "sql",
     "language_group": "sqldatawarehouse"
    }
   },
   "outputs": [],
   "source": [
    "-- Step 2.1.4\n",
    "\n",
    "IF NOT EXISTS (SELECT * FROM sys.schemas WHERE name = 'stage')\n",
    "EXEC ('CREATE SCHEMA stage')"
   ]
  },
  {
   "cell_type": "code",
   "execution_count": null,
   "id": "00d2df3d-bd6e-485d-b157-b15dfa096629",
   "metadata": {
    "microsoft": {
     "language": "sql",
     "language_group": "sqldatawarehouse"
    }
   },
   "outputs": [],
   "source": [
    "-- Step 2.1.5\n",
    "\n",
    "SELECT * FROM sys.schemas WHERE name = 'stage'"
   ]
  },
  {
   "cell_type": "markdown",
   "id": "d13954f9-513d-4626-b504-c5b5ac90540a",
   "metadata": {
    "microsoft": {
     "language": "sql",
     "language_group": "sqldatawarehouse"
    },
    "nteract": {
     "transient": {
      "deleting": false
     }
    }
   },
   "source": [
    "### 2.2 - Creating tables"
   ]
  },
  {
   "cell_type": "code",
   "execution_count": null,
   "id": "b5d3dc1d-7558-4724-aa2e-1d45c26c9b4f",
   "metadata": {
    "microsoft": {
     "language": "sql",
     "language_group": "sqldatawarehouse"
    }
   },
   "outputs": [],
   "source": [
    "-- Step 2.2.1\n",
    "\n",
    "DROP TABLE IF EXISTS stage.DimCity\n",
    "DROP TABLE IF EXISTS stage.DimCustomer\n",
    "DROP TABLE IF EXISTS stage.DimEmployee\n",
    "DROP TABLE IF EXISTS stage.DimStockItem\n",
    "DROP TABLE IF EXISTS stage.FactSale\n",
    "GO\n",
    "\n",
    "CREATE TABLE [stage].[DimCity]\n",
    "\t(\n",
    "\t\t[CityKey]                   [int]            NOT NULL,\n",
    "\t\t[City]                      [varchar](50)    NOT NULL,\n",
    "\t\t[StateProvince]             [varchar](50)    NOT NULL,\n",
    "\t\t[Country]                   [varchar](60)    NOT NULL,\n",
    "\t\t[Continent]                 [varchar](30)    NOT NULL,\n",
    "\t\t[SalesTerritory]            [varchar](50)    NOT NULL,\n",
    "\t\t[Region]                    [varchar](30)    NOT NULL,\n",
    "\t\t[Subregion]                 [varchar](30)    NOT NULL,\n",
    "\t\t[Location]                  [varchar](50)    NULL,\n",
    "\t\t[LatestRecordedPopulation]  [bigint]         NOT NULL\n",
    "\t)\n",
    "GO\n",
    "\n",
    "CREATE TABLE [stage].[DimCustomer]\n",
    "\t(\n",
    "\t\t[CustomerKey]               [int]            NOT NULL,\n",
    "\t\t[Customer]                  [varchar](100)   NOT NULL,\n",
    "\t\t[BillToCustomer]            [varchar](100)   NOT NULL,\n",
    "\t\t[Category]                  [varchar](50)    NOT NULL,\n",
    "\t\t[BuyingGroup]               [varchar](50)    NOT NULL,\n",
    "\t\t[PrimaryContact]            [varchar](50)    NOT NULL,\n",
    "\t\t[PostalCode]                [varchar](10)    NOT NULL\n",
    "\t)\n",
    "GO\n",
    "\n",
    "CREATE TABLE [stage].[DimEmployee]\n",
    "\t(\n",
    "\t\t[EmployeeKey]               [int]            NOT NULL,\n",
    "\t\t[Employee]                  [varchar](50)    NOT NULL,\n",
    "\t\t[PreferredName]             [varchar](50)    NOT NULL,\n",
    "\t\t[IsSalesperson]             [bit]            NOT NULL\n",
    "\t)\n",
    "GO\n",
    "\n",
    "CREATE TABLE [stage].[DimStockItem]\n",
    "\t(\n",
    "\t\t[StockItemKey]              [int]            NOT NULL,\n",
    "\t\t[StockItem]                 [varchar](100)   NOT NULL,\n",
    "\t\t[Color]                     [varchar](20)    NOT NULL,\n",
    "\t\t[SellingPackage]            [varchar](50)    NOT NULL,\n",
    "\t\t[BuyingPackage]             [varchar](50)    NOT NULL,\n",
    "\t\t[Brand]                     [varchar](50)    NOT NULL,\n",
    "\t\t[Size]                      [varchar](20)    NOT NULL,\n",
    "\t\t[LeadTimeDays]              [int]            NOT NULL,\n",
    "\t\t[QuantityPerOuter]          [int]            NOT NULL,\n",
    "\t\t[IsChillerStock]            [bit]            NOT NULL,\n",
    "\t\t[Barcode]                   [varchar](50)    NULL,\n",
    "\t\t[TaxRate]                   [decimal](18, 3) NOT NULL,\n",
    "\t\t[UnitPrice]                 [decimal](18, 2) NOT NULL,\n",
    "\t\t[RecommendedRetailPrice]    [decimal](18, 2) NULL,\n",
    "\t\t[TypicalWeightPerUnit]      [decimal](18, 3) NOT NULL\n",
    "\t)\n",
    "GO\n",
    "\n",
    "CREATE TABLE [stage].[FactSale]\n",
    "\t(\n",
    "        [CityKey]                   [int]            NOT NULL,\n",
    "\t\t[CustomerKey]               [int]            NOT NULL,\n",
    "\t\t[BillToCustomerKey]         [int]            NOT NULL,\n",
    "\t\t[StockItemKey]              [int]            NOT NULL,\n",
    "\t\t[InvoiceDateKey]            [date]           NOT NULL,\n",
    "\t\t[DeliveryDateKey]           [date]           NULL,\n",
    "\t\t[SalespersonKey]            [int]            NOT NULL,\n",
    "\t\t[WWIInvoiceID]              [int]            NOT NULL,\n",
    "\t\t[Description]               [varchar](100)   NOT NULL,\n",
    "\t\t[Package]                   [varchar](50)    NOT NULL,\n",
    "\t\t[Quantity]                  [int]            NOT NULL,\n",
    "\t\t[UnitPrice]                 [decimal](18, 2) NOT NULL,\n",
    "\t\t[TaxRate]                   [decimal](18, 3) NOT NULL,\n",
    "\t\t[TotalExcludingTax]         [decimal](18, 2) NOT NULL,\n",
    "\t\t[TaxAmount]                 [decimal](18, 2) NOT NULL,\n",
    "\t\t[Profit]                    [decimal](18, 2) NOT NULL,\n",
    "\t\t[TotalIncludingTax]         [decimal](18, 2) NOT NULL,\n",
    "\t\t[TotalDryItems]             [int]            NOT NULL,\n",
    "\t\t[TotalChillerItems]         [int]            NOT NULL\n",
    "\t)\n",
    "GO"
   ]
  },
  {
   "cell_type": "code",
   "execution_count": null,
   "id": "13fa8d3d-1c8e-4305-8e76-9dc1ed34b8af",
   "metadata": {
    "microsoft": {
     "language": "sql",
     "language_group": "sqldatawarehouse"
    }
   },
   "outputs": [],
   "source": [
    "-- Step 2.2.2\n",
    "\n",
    "DROP TABLE IF EXISTS dbo.DimCity\n",
    "DROP TABLE IF EXISTS dbo.DimCustomer\n",
    "DROP TABLE IF EXISTS dbo.DimDate\n",
    "DROP TABLE IF EXISTS dbo.DimEmployee\n",
    "DROP TABLE IF EXISTS dbo.DimStockItem\n",
    "DROP TABLE IF EXISTS dbo.FactSale\n",
    "GO\n",
    "\n",
    "CREATE TABLE [dbo].[DimCity]\n",
    "\t(\n",
    "\t\t[CitySK]                    [int]            NOT NULL,\n",
    "\t\t[CityAK]                    [int]            NOT NULL,\n",
    "\t\t[City]                      [varchar](50)    NOT NULL,\n",
    "\t\t[StateProvince]             [varchar](50)    NOT NULL,\n",
    "\t\t[Country]                   [varchar](60)    NOT NULL,\n",
    "\t\t[Continent]                 [varchar](30)    NOT NULL,\n",
    "\t\t[SalesTerritory]            [varchar](50)    NOT NULL,\n",
    "\t\t[Region]                    [varchar](30)    NOT NULL,\n",
    "\t\t[Subregion]                 [varchar](30)    NOT NULL,\n",
    "\t\t[Location]                  [varchar](50)    NULL,\n",
    "\t\t[LatestRecordedPopulation]  [bigint]         NOT NULL\n",
    "\t)\n",
    "GO\n",
    "\n",
    "CREATE TABLE [dbo].[DimCustomer]\n",
    "\t(\n",
    "\t\t[CustomerSK]                [int]            NOT NULL,\n",
    "\t\t[CustomerAK]                [int]            NOT NULL,\n",
    "\t\t[Customer]                  [varchar](100)   NOT NULL,\n",
    "\t\t[BillToCustomer]            [varchar](100)   NOT NULL,\n",
    "\t\t[Category]                  [varchar](50)    NOT NULL,\n",
    "\t\t[BuyingGroup]               [varchar](50)    NOT NULL,\n",
    "\t\t[PrimaryContact]            [varchar](50)    NOT NULL,\n",
    "\t\t[PostalCode]                [varchar](10)    NOT NULL\n",
    "\t)\n",
    "GO\n",
    "\n",
    "CREATE TABLE [dbo].[DimDate]\n",
    "\t(\n",
    "\t\t[Date]                      [date]           NOT NULL,\n",
    "\t\t[DayNumber]                 [int]            NOT NULL,\n",
    "\t\t[Day]                       [varchar](10)    NOT NULL,\n",
    "\t\t[Month]                     [varchar](10)    NOT NULL,\n",
    "\t\t[ShortMonth]                [varchar](3)     NOT NULL,\n",
    "\t\t[CalendarMonthNumber]       [int]            NOT NULL,\n",
    "\t\t[CalendarMonthLabel]        [varchar](20)    NOT NULL,\n",
    "\t\t[CalendarYear]              [int]            NOT NULL,\n",
    "\t\t[CalendarYearLabel]         [varchar](10)    NOT NULL,\n",
    "\t\t[FiscalMonthNumber]         [int]            NOT NULL,\n",
    "\t\t[FiscalMonthLabel]          [varchar](20)    NOT NULL,\n",
    "\t\t[FiscalYear]                [int]            NOT NULL,\n",
    "\t\t[FiscalYearLabel]           [varchar](10)    NOT NULL,\n",
    "\t\t[ISOWeekNumber]             [int]            NOT NULL\n",
    "\t)\n",
    "GO\n",
    "\n",
    "CREATE TABLE [dbo].[DimEmployee]\n",
    "\t(\n",
    "\t\t[EmployeeSK]                [int]            NOT NULL,\n",
    "\t\t[EmployeeAK]                [int]            NOT NULL,\n",
    "\t\t[Employee]                  [varchar](50)    NOT NULL,\n",
    "\t\t[PreferredName]             [varchar](50)    NOT NULL,\n",
    "\t\t[IsSalesperson]             [bit]            NOT NULL\n",
    "\t)\n",
    "GO\n",
    "\n",
    "CREATE TABLE [dbo].[DimStockItem]\n",
    "\t(\n",
    "\t\t[StockItemSK]               [int]            NOT NULL,\n",
    "\t\t[StockItemAK]               [int]            NOT NULL,\n",
    "\t\t[StockItem]                 [varchar](100)   NOT NULL,\n",
    "\t\t[Color]                     [varchar](20)    NOT NULL,\n",
    "\t\t[SellingPackage]            [varchar](50)    NOT NULL,\n",
    "\t\t[BuyingPackage]             [varchar](50)    NOT NULL,\n",
    "\t\t[Brand]                     [varchar](50)    NOT NULL,\n",
    "\t\t[Size]                      [varchar](20)    NOT NULL,\n",
    "\t\t[LeadTimeDays]              [int]            NOT NULL,\n",
    "\t\t[QuantityPerOuter]          [int]            NOT NULL,\n",
    "\t\t[IsChillerStock]            [bit]            NOT NULL,\n",
    "\t\t[Barcode]                   [varchar](50)    NULL,\n",
    "\t\t[TaxRate]                   [decimal](18, 3) NOT NULL,\n",
    "\t\t[UnitPrice]                 [decimal](18, 2) NOT NULL,\n",
    "\t\t[RecommendedRetailPrice]    [decimal](18, 2) NULL,\n",
    "\t\t[TypicalWeightPerUnit]      [decimal](18, 3) NOT NULL\n",
    "\t)\n",
    "GO\n",
    "\n",
    "CREATE TABLE [dbo].[FactSale]\n",
    "\t(\n",
    "\t\t[SaleKey]                   [bigint]         NOT NULL,\n",
    "\t\t[CitySK]                    [int]            NOT NULL,\n",
    "\t\t[CustomerSK]                [int]            NOT NULL,\n",
    "\t\t[BillToCustomerSK]          [int]            NOT NULL,\n",
    "\t\t[StockItemSK]               [int]            NOT NULL,\n",
    "\t\t[InvoiceDateKey]            [date]           NOT NULL,\n",
    "\t\t[DeliveryDateKey]           [date]           NULL,\n",
    "\t\t[SalespersonSK]             [int]            NOT NULL,\n",
    "\t\t[InvoiceID]                 [int]            NOT NULL,\n",
    "\t\t[Description]               [varchar](100)   NOT NULL,\n",
    "\t\t[Package]                   [varchar](50)    NOT NULL,\n",
    "\t\t[Quantity]                  [int]            NOT NULL,\n",
    "\t\t[UnitPrice]                 [decimal](18, 2) NOT NULL,\n",
    "\t\t[TaxRate]                   [decimal](18, 3) NOT NULL,\n",
    "\t\t[TotalExcludingTax]         [decimal](18, 2) NOT NULL,\n",
    "\t\t[TaxAmount]                 [decimal](18, 2) NOT NULL,\n",
    "\t\t[Profit]                    [decimal](18, 2) NOT NULL,\n",
    "\t\t[TotalIncludingTax]         [decimal](18, 2) NOT NULL,\n",
    "\t\t[TotalDryItems]             [int]            NOT NULL,\n",
    "\t\t[TotalChillerItems]         [int]            NOT NULL\n",
    "\t)\n",
    "GO"
   ]
  },
  {
   "cell_type": "code",
   "execution_count": null,
   "id": "2db8e06e-2bab-4071-b59c-e650f7338985",
   "metadata": {
    "microsoft": {
     "language": "sql",
     "language_group": "sqldatawarehouse"
    }
   },
   "outputs": [],
   "source": [
    "-- Step 2.2.3\n",
    "\n",
    "SELECT\n",
    "    SCHEMA_NAME(schema_id) AS SchemaName,\n",
    "    name AS TableName\n",
    "FROM sys.tables\n",
    "WHERE\n",
    "    SCHEMA_NAME(schema_id) IN ('dbo', 'stage')\n",
    "ORDER BY\n",
    "    SchemaName,\n",
    "    TableName"
   ]
  },
  {
   "cell_type": "markdown",
   "id": "b5f90e2b-2d46-413b-b54b-3967cee3dfbb",
   "metadata": {
    "microsoft": {
     "language": "sql",
     "language_group": "sqldatawarehouse"
    },
    "nteract": {
     "transient": {
      "deleting": false
     }
    }
   },
   "source": [
    "# Lab 3 - Loading Data"
   ]
  },
  {
   "cell_type": "markdown",
   "id": "96ecc9e4-5ed1-448c-9802-1c8fb9eb4384",
   "metadata": {
    "microsoft": {
     "language": "sql",
     "language_group": "sqldatawarehouse"
    },
    "nteract": {
     "transient": {
      "deleting": false
     }
    }
   },
   "source": [
    "### 3.2 - T-SQL INSERT INTO...SELECT FROM"
   ]
  },
  {
   "cell_type": "code",
   "execution_count": null,
   "id": "0541b383-5d4c-474a-b6b5-76634d57440c",
   "metadata": {
    "microsoft": {
     "language": "sql",
     "language_group": "sqldatawarehouse"
    }
   },
   "outputs": [],
   "source": [
    "-- Step 3.2.3\n",
    "\n",
    "TRUNCATE TABLE stage.FactSale\n",
    "\n",
    "INSERT INTO stage.FactSale\n",
    "SELECT \n",
    "    [CityKey]\n",
    "    ,[CustomerKey]\n",
    "    ,[BillToCustomerKey]\n",
    "    ,[StockItemKey]\n",
    "    ,[InvoiceDateKey]\n",
    "    ,[DeliveryDateKey]\n",
    "    ,[SalespersonKey]\n",
    "    ,[WWIInvoiceID]\n",
    "    ,[Description]\n",
    "    ,[Package]\n",
    "    ,[Quantity]\n",
    "    ,[UnitPrice]\n",
    "    ,[TaxRate]\n",
    "    ,[TotalExcludingTax]\n",
    "    ,[TaxAmount]\n",
    "    ,[Profit]\n",
    "    ,[TotalIncludingTax]\n",
    "    ,[TotalDryItems]\n",
    "    ,[TotalChillerItems]\n",
    "FROM OPENROWSET(BULK 'https://fabrictutorialdata.blob.core.windows.net/sampledata/WideWorldImportersDW/parquet/tables/FactSale.parquet') AS FactSale\n",
    "WHERE\n",
    "\tYEAR(InvoiceDateKey) = 2013"
   ]
  },
  {
   "cell_type": "code",
   "execution_count": null,
   "id": "25e59e82-ad23-4ca1-a7fc-03127745a604",
   "metadata": {
    "microsoft": {
     "language": "sql",
     "language_group": "sqldatawarehouse"
    }
   },
   "outputs": [],
   "source": [
    "-- Step 3.2.5\n",
    "\n",
    "SELECT COUNT_BIG(*) FROM stage.FactSale"
   ]
  },
  {
   "cell_type": "markdown",
   "id": "8e93c316-a49f-4eb2-9ad4-78f7d3f972ed",
   "metadata": {
    "microsoft": {
     "language": "sql",
     "language_group": "sqldatawarehouse"
    },
    "nteract": {
     "transient": {
      "deleting": false
     }
    }
   },
   "source": [
    "### 3.3 - T-SQL COPY INTO"
   ]
  },
  {
   "cell_type": "code",
   "execution_count": null,
   "id": "a24b6153-4fe7-4105-b4eb-0cb81b984c50",
   "metadata": {
    "microsoft": {
     "language": "sql",
     "language_group": "sqldatawarehouse"
    }
   },
   "outputs": [],
   "source": [
    "-- Step 3.3.1\n",
    "\n",
    "TRUNCATE TABLE stage.DimCity\n",
    "TRUNCATE TABLE stage.DimCustomer\n",
    "TRUNCATE TABLE stage.DimEmployee\n",
    "TRUNCATE TABLE stage.DimStockItem\n",
    "\n",
    "COPY INTO [stage].[DimCity]      FROM 'https://fabrictutorialdata.blob.core.windows.net/sampledata/WideWorldImportersDW/parquet/tables/DimCity.parquet'      WITH (FILE_TYPE = 'PARQUET');\n",
    "COPY INTO [stage].[DimCustomer]  FROM 'https://fabrictutorialdata.blob.core.windows.net/sampledata/WideWorldImportersDW/parquet/tables/DimCustomer.parquet'  WITH (FILE_TYPE = 'PARQUET');\n",
    "COPY INTO [stage].[DimEmployee]  FROM 'https://fabrictutorialdata.blob.core.windows.net/sampledata/WideWorldImportersDW/parquet/tables/DimEmployee.parquet'  WITH (FILE_TYPE = 'PARQUET');\n",
    "COPY INTO [stage].[DimStockItem] FROM 'https://fabrictutorialdata.blob.core.windows.net/sampledata/WideWorldImportersDW/parquet/tables/DimStockItem.parquet' WITH (FILE_TYPE = 'PARQUET');"
   ]
  },
  {
   "cell_type": "code",
   "execution_count": null,
   "id": "9e804264-1da7-4d12-9234-5d2f5b3f4d46",
   "metadata": {
    "microsoft": {
     "language": "sql",
     "language_group": "sqldatawarehouse"
    }
   },
   "outputs": [],
   "source": [
    "-- Step 3.3.2\n",
    "\n",
    "SELECT 'stage' AS SchemaName, 'DimCity'        AS TableName, FORMAT(COUNT_BIG(*), 'N0') AS RecordCount FROM stage.DimCity       UNION ALL\n",
    "SELECT 'stage' AS SchemaName, 'DimCustomer'    AS TableName, FORMAT(COUNT_BIG(*), 'N0') AS RecordCount FROM stage.DimCustomer   UNION ALL\n",
    "SELECT 'stage' AS SchemaName, 'DimEmployee'    AS TableName, FORMAT(COUNT_BIG(*), 'N0') AS RecordCount FROM stage.DimEmployee   UNION ALL\n",
    "SELECT 'stage' AS SchemaName, 'DimStockItem'   AS TableName, FORMAT(COUNT_BIG(*), 'N0') AS RecordCount FROM stage.DimStockItem  UNION ALL\n",
    "SELECT 'stage' AS SchemaName, 'FactSale'       AS TableName, FORMAT(COUNT_BIG(*), 'N0') AS RecordCount FROM stage.FactSale\n",
    "ORDER BY\n",
    "    SchemaName,\n",
    "    TableName"
   ]
  },
  {
   "cell_type": "markdown",
   "id": "30df435a-d20f-40b6-8a0e-ee1c1c24ce96",
   "metadata": {
    "microsoft": {
     "language": "sql",
     "language_group": "sqldatawarehouse"
    },
    "nteract": {
     "transient": {
      "deleting": false
     }
    }
   },
   "source": [
    "# Lab 4 - Data transformation using T-SQL"
   ]
  },
  {
   "cell_type": "markdown",
   "id": "5ae47cf1-c24f-42e4-a9a4-d692794598a2",
   "metadata": {
    "microsoft": {
     "language": "sql",
     "language_group": "sqldatawarehouse"
    },
    "nteract": {
     "transient": {
      "deleting": false
     }
    }
   },
   "source": [
    "### 4.1 - Stored procedures"
   ]
  },
  {
   "cell_type": "code",
   "execution_count": null,
   "id": "2b5c09a0-de27-4625-8391-52076c77644f",
   "metadata": {
    "microsoft": {
     "language": "sql",
     "language_group": "sqldatawarehouse"
    }
   },
   "outputs": [],
   "source": [
    "-- Step 4.1.3\n",
    "\n",
    "-- dbo.CreateUnknownMember stored procedure\n",
    "DROP PROCEDURE IF EXISTS dbo.CreateUnknownMembers\n",
    "GO\n",
    "\n",
    "CREATE PROCEDURE dbo.CreateUnknownMembers\n",
    "AS\n",
    "BEGIN\n",
    "\n",
    "    IF NOT EXISTS (SELECT * FROM dbo.DimCity WHERE CitySK = 0)\n",
    "    INSERT INTO dbo.DimCity SELECT 0, 0, 'Unknown', 'N/A', 'N/A', 'N/A', 'N/A', 'N/A', 'N/A', NULL, 0\n",
    "\n",
    "    IF NOT EXISTS (SELECT * FROM dbo.DimCustomer WHERE CustomerSK = 0)\n",
    "    INSERT INTO dbo.DimCustomer SELECT 0, 0, 'Unknown', 'N/A', 'N/A', 'N/A', 'N/A', 'N/A'\n",
    "\n",
    "    IF NOT EXISTS (SELECT * FROM dbo.DimEmployee WHERE EmployeeSK = 0)\n",
    "    INSERT INTO dbo.DimEmployee SELECT 0, 0, 'Unknown', 'N/A', 0\n",
    "\n",
    "    IF NOT EXISTS (SELECT * FROM dbo.DimStockItem WHERE StockItemSK = 0)\n",
    "    INSERT INTO dbo.DimStockItem SELECT 0, 0, 'Unknown', 'N/A', 'N/A', 'N/A', 'N/A', 'N/A', 0, 0, 0, 'N/A', 0, 0, 0, 0\n",
    "\n",
    "END\n",
    "GO"
   ]
  },
  {
   "cell_type": "code",
   "execution_count": null,
   "id": "d908ec0a-53bc-4c64-9b06-ff76207979ef",
   "metadata": {
    "microsoft": {
     "language": "sql",
     "language_group": "sqldatawarehouse"
    }
   },
   "outputs": [],
   "source": [
    "-- Step 4.1.4\n",
    "\n",
    "-- dbo.UpdateDimCity stored procedure\n",
    "DROP PROCEDURE IF EXISTS dbo.UpdateDimCity\n",
    "GO\n",
    "\n",
    "\n",
    "CREATE PROCEDURE dbo.UpdateDimCity\n",
    "AS\n",
    "BEGIN\n",
    "\n",
    "\tUPDATE destination\n",
    "\tSET\n",
    "\t\tdestination.[CityAK] \t\t\t\t    = source.[CityKey],\n",
    "\t\tdestination.[City] \t\t\t\t\t\t= source.[City],\n",
    "\t\tdestination.[StateProvince] \t\t\t= source.[StateProvince],\n",
    "\t\tdestination.[Country] \t\t\t\t\t= source.[Country],\n",
    "\t\tdestination.[Continent] \t\t\t\t= source.[Continent],\n",
    "\t\tdestination.[SalesTerritory] \t\t\t= source.[SalesTerritory],\n",
    "\t\tdestination.[Region] \t\t\t\t\t= source.[Region],\n",
    "\t\tdestination.[Subregion] \t\t\t\t= source.[Subregion],\n",
    "\t\tdestination.[Location] \t\t\t\t\t= source.[Location],\n",
    "\t\tdestination.[LatestRecordedPopulation] \t= source.[LatestRecordedPopulation]\n",
    "\tFROM dbo.DimCity AS destination\n",
    "\tINNER JOIN stage.DimCity AS source\n",
    "\t\tON destination.[CityAK] = source.[CityKey]\n",
    "\n",
    "\tDECLARE @MaxID BIGINT = (SELECT ISNULL(MAX(CitySK), 0) FROM dbo.DimCity)\n",
    "\n",
    "\tINSERT INTO dbo.DimCity\n",
    "\tSELECT\n",
    "\t\t@MaxID + ROW_NUMBER() OVER(ORDER BY (SELECT NULL)) AS [CitySK],\n",
    "\t\t[CityKey],\n",
    "\t\t[City],\n",
    "\t\t[StateProvince],\n",
    "\t\t[Country],\n",
    "\t\t[Continent],\n",
    "\t\t[SalesTerritory],\n",
    "\t\t[Region],\n",
    "\t\t[Subregion],\n",
    "\t\t[Location],\n",
    "\t\t[LatestRecordedPopulation]\n",
    "\tFROM stage.DimCity\n",
    "\tWHERE CityKey NOT IN (SELECT CityAK FROM dbo.DimCity)\n",
    "\n",
    "END\n",
    "GO\n",
    "\n",
    "\n",
    "-- dbo.UpdateDimCustomer stored procedure\n",
    "DROP PROCEDURE IF EXISTS dbo.UpdateDimCustomer\n",
    "GO\n",
    "\n",
    "CREATE PROCEDURE dbo.UpdateDimCustomer\n",
    "AS\n",
    "BEGIN\n",
    "\n",
    "\tUPDATE destination\n",
    "\tSET\n",
    "\t\tdestination.[CustomerAK] \t    = source.[CustomerKey],\n",
    "\t\tdestination.[Customer] \t\t\t= source.[Customer],\n",
    "\t\tdestination.[BillToCustomer] \t= source.[BillToCustomer],\n",
    "\t\tdestination.[Category] \t\t\t= source.[Category],\n",
    "\t\tdestination.[BuyingGroup] \t\t= source.[BuyingGroup],\n",
    "\t\tdestination.[PrimaryContact] \t= source.[PrimaryContact],\n",
    "\t\tdestination.[PostalCode] \t\t= source.[PostalCode]\n",
    "\tFROM dbo.DimCustomer AS destination\n",
    "\tINNER JOIN stage.DimCustomer AS source\n",
    "\t\tON destination.[CustomerAK] = source.[CustomerKey]\n",
    "\n",
    "\tDECLARE @MaxID BIGINT = (SELECT ISNULL(MAX(CustomerSK), 0) FROM dbo.DimCustomer)\n",
    "\n",
    "\tINSERT INTO dbo.DimCustomer\n",
    "\tSELECT\n",
    "\t\t@MaxID + ROW_NUMBER() OVER(ORDER BY (SELECT NULL)) AS [CustomerSK],\n",
    "\t\t[CustomerKey],\n",
    "\t\t[Customer],\n",
    "\t\t[BillToCustomer],\n",
    "\t\t[Category],\n",
    "\t\t[BuyingGroup],\n",
    "\t\t[PrimaryContact],\n",
    "\t\t[PostalCode]\t\t\n",
    "\tFROM stage.DimCustomer\n",
    "\tWHERE CustomerKey NOT IN (SELECT CustomerAK FROM dbo.DimCustomer)\n",
    "\n",
    "END\n",
    "GO\n",
    "\n",
    "\n",
    "-- dbo.UpdateDimEmployee stored procedure\n",
    "DROP PROCEDURE IF EXISTS dbo.UpdateDimEmployee\n",
    "GO\n",
    "\n",
    "CREATE PROCEDURE dbo.UpdateDimEmployee\n",
    "AS\n",
    "BEGIN\n",
    "\n",
    "\tUPDATE destination\n",
    "\tSET\n",
    "\t\tdestination.[EmployeeAK] \t    = source.[EmployeeKey],\n",
    "\t\tdestination.[Employee] \t\t\t= source.[Employee],\n",
    "\t\tdestination.[PreferredName] \t= source.[PreferredName],\n",
    "\t\tdestination.[IsSalesperson]\t\t= source.[IsSalesperson]\n",
    "\tFROM dbo.DimEmployee AS destination\n",
    "\tINNER JOIN stage.DimEmployee AS source\n",
    "\t\tON destination.[EmployeeAK] = source.[EmployeeKey]\n",
    "\n",
    "\tDECLARE @MaxID BIGINT = (SELECT ISNULL(MAX(EmployeeSK), 0) FROM dbo.DimEmployee)\n",
    "\n",
    "\tINSERT INTO dbo.DimEmployee\n",
    "\tSELECT\n",
    "\t\t@MaxID + ROW_NUMBER() OVER(ORDER BY (SELECT NULL)) AS [EmployeeSK],\n",
    "\t\t[EmployeeKey],\n",
    "\t\t[Employee],\n",
    "\t\t[PreferredName],\n",
    "\t\t[IsSalesperson]\t\t\n",
    "\tFROM stage.DimEmployee\n",
    "\tWHERE EmployeeKey NOT IN (SELECT EmployeeAK FROM dbo.DimEmployee)\n",
    "\n",
    "END\n",
    "GO\n",
    "\n",
    "\n",
    "-- dbo.UpdateDimStockItem stored procedure\n",
    "DROP PROCEDURE IF EXISTS dbo.UpdateDimStockItem\n",
    "GO\n",
    "\n",
    "CREATE PROCEDURE dbo.UpdateDimStockItem\n",
    "AS\n",
    "BEGIN\n",
    "\n",
    "\tUPDATE destination\n",
    "\tSET\n",
    "\t\tdestination.[StockItemAK] \t\t\t    = source.[StockItemKey],\n",
    "\t\tdestination.[StockItem] \t\t\t\t= source.[StockItem],\n",
    "\t\tdestination.[Color] \t\t\t\t\t= source.[Color],\n",
    "\t\tdestination.[SellingPackage] \t\t\t= source.[SellingPackage],\n",
    "\t\tdestination.[BuyingPackage] \t\t\t= source.[BuyingPackage],\n",
    "\t\tdestination.[Brand] \t\t\t\t\t= source.[Brand],\n",
    "\t\tdestination.[Size] \t\t\t\t\t\t= source.[Size],\n",
    "\t\tdestination.[LeadTimeDays] \t\t\t\t= source.[LeadTimeDays],\n",
    "\t\tdestination.[QuantityPerOuter] \t\t\t= source.[QuantityPerOuter],\n",
    "\t\tdestination.[IsChillerStock] \t\t\t= source.[IsChillerStock],\n",
    "\t\tdestination.[Barcode] \t\t\t\t\t= source.[Barcode],\n",
    "\t\tdestination.[TaxRate] \t\t\t\t\t= source.[TaxRate],\n",
    "\t\tdestination.[UnitPrice] \t\t\t\t= source.[UnitPrice],\n",
    "\t\tdestination.[RecommendedRetailPrice] \t= source.[RecommendedRetailPrice],\n",
    "\t\tdestination.[TypicalWeightPerUnit] \t\t= source.[TypicalWeightPerUnit]\n",
    "\tFROM dbo.DimStockItem AS destination\n",
    "\tINNER JOIN stage.DimStockItem AS source\n",
    "\t\tON destination.[StockItemAK] = source.[StockItemKey]\n",
    "\n",
    "\tDECLARE @MaxID BIGINT = (SELECT ISNULL(MAX(StockItemSK), 0) FROM dbo.DimStockItem)\n",
    "\n",
    "\tINSERT INTO dbo.DimStockItem\n",
    "\tSELECT\n",
    "\t\t@MaxID + ROW_NUMBER() OVER(ORDER BY (SELECT NULL)) AS [StockItemSK],\n",
    "\t\t[StockItemKey],\n",
    "\t\t[StockItem],\n",
    "\t\t[Color],\n",
    "\t\t[SellingPackage],\n",
    "\t\t[BuyingPackage],\n",
    "\t\t[Brand],\n",
    "\t\t[Size],\n",
    "\t\t[LeadTimeDays],\n",
    "\t\t[QuantityPerOuter],\n",
    "\t\t[IsChillerStock],\n",
    "\t\t[Barcode],\n",
    "\t\t[TaxRate],\n",
    "\t\t[UnitPrice],\n",
    "\t\t[RecommendedRetailPrice],\n",
    "\t\t[TypicalWeightPerUnit]\n",
    "\tFROM stage.DimStockItem\n",
    "\tWHERE StockItemKey NOT IN (SELECT StockItemAK FROM dbo.DimStockItem)\n",
    "\n",
    "END\n",
    "GO\n",
    "\n",
    "\n",
    "-- dbo.UpdateFactSale stored procedure\n",
    "DROP PROCEDURE IF EXISTS dbo.UpdateFactSale\n",
    "GO\n",
    "\n",
    "CREATE PROCEDURE dbo.UpdateFactSale\n",
    "AS\n",
    "BEGIN\n",
    "\n",
    "\tDECLARE @MaxID BIGINT = (SELECT ISNULL(MAX(SaleKey), 0) FROM dbo.FactSale)\n",
    "\n",
    "\tINSERT INTO dbo.FactSale\n",
    "\tSELECT\n",
    "\t\t@MaxID + ROW_NUMBER() OVER(ORDER BY (SELECT NULL)) AS [SaleKey],\n",
    "\t\tISNULL(dci.CitySK, 0) AS CityKey,\n",
    "\t\tISNULL(dcu.CustomerSK, 0) AS CustomerKey,\n",
    "\t\tISNULL(dbtc.CustomerSK, 0) AS BillToCustomerKey,\n",
    "\t\tISNULL(dsi.StockItemSK, 0) AS StockItemKey,\n",
    "\t\tfs.InvoiceDateKey,\n",
    "\t\tfs.DeliveryDateKey,\n",
    "        ISNULL(de.EmployeeSK, 0) AS SalespersonKey,\n",
    "\t\tfs.WWIInvoiceID,\n",
    "\t\tfs.[Description],\n",
    "\t\tfs.Package,\n",
    "\t\tfs.Quantity,\n",
    "\t\tfs.UnitPrice,\n",
    "\t\tfs.TaxRate,\n",
    "\t\tfs.TotalExcludingTax,\n",
    "\t\tfs.TaxAmount,\n",
    "\t\tfs.Profit,\n",
    "\t\tfs.TotalIncludingTax,\n",
    "\t\tfs.TotalDryItems,\n",
    "\t\tfs.TotalChillerItems\n",
    "\tFROM stage.FactSale AS fs\n",
    "\tLEFT JOIN dbo.DimCity AS dci\n",
    "\t\tON fs.CityKey = dci.CityAK\n",
    "\tLEFT JOIN dbo.DimCustomer AS dcu\n",
    "\t\tON fs.CustomerKey = dcu.CustomerAK\n",
    "\tLEFT JOIN dbo.DimCustomer AS dbtc\n",
    "\t\tON fs.BillToCustomerKey = dbtc.CustomerAK\n",
    "\tLEFT JOIN dbo.DimStockItem AS dsi\n",
    "\t\tON fs.StockItemKey = dsi.StockItemAK\n",
    "\tLEFT JOIN dbo.DimEmployee de\n",
    "\t \tON fs.SalespersonKey = de.EmployeeAK\n",
    "\tLEFT JOIN dbo.FactSale AS f\n",
    "\t\tON fs.WWIInvoiceID = f.InvoiceID\n",
    "\t\tAND dsi.StockItemSK = f.StockItemSK\n",
    "        AND fs.InvoiceDateKey = f.InvoiceDateKey\n",
    "\tWHERE\n",
    "\t\tf.SaleKey IS NULL\n",
    "\t\t\n",
    "END\n",
    "GO"
   ]
  },
  {
   "cell_type": "code",
   "execution_count": null,
   "id": "457f1cfe-b813-4ffd-a329-1cfda387111d",
   "metadata": {
    "microsoft": {
     "language": "sql",
     "language_group": "sqldatawarehouse"
    }
   },
   "outputs": [],
   "source": [
    "-- Step 4.1.5\n",
    "\n",
    "SELECT * FROM INFORMATION_SCHEMA.ROUTINES WHERE ROUTINE_TYPE = 'PROCEDURE'"
   ]
  },
  {
   "cell_type": "markdown",
   "id": "8f020feb-9477-4dd8-9105-641b3201e58d",
   "metadata": {
    "microsoft": {
     "language": "sql",
     "language_group": "sqldatawarehouse"
    },
    "nteract": {
     "transient": {
      "deleting": false
     }
    }
   },
   "source": [
    "### 4.2 - Incrementally updating tables"
   ]
  },
  {
   "cell_type": "code",
   "execution_count": null,
   "id": "417fbf14-2d22-4398-afe6-d650b0afd627",
   "metadata": {
    "microsoft": {
     "language": "sql",
     "language_group": "sqldatawarehouse"
    }
   },
   "outputs": [],
   "source": [
    "-- Step 4.2.1\n",
    "\n",
    "DECLARE @CountBeforeLoadDimCity      BIGINT = (SELECT COUNT_BIG(*) FROM dbo.DimCity)\n",
    "DECLARE @CountBeforeLoadDimCustomer  BIGINT = (SELECT COUNT_BIG(*) FROM dbo.DimCustomer)\n",
    "DECLARE @CountBeforeLoadDimEmployee  BIGINT = (SELECT COUNT_BIG(*) FROM dbo.DimEmployee)\n",
    "DECLARE @CountBeforeLoadDimStockItem BIGINT = (SELECT COUNT_BIG(*) FROM dbo.DimStockItem)\n",
    "DECLARE @CountBeforeLoadFactSale     BIGINT = (SELECT COUNT_BIG(*) FROM dbo.FactSale)\n",
    "\n",
    "EXEC dbo.CreateUnknownMembers;\n",
    "EXEC dbo.UpdateDimCity;\n",
    "EXEC dbo.UpdateDimCustomer;\n",
    "EXEC dbo.UpdateDimEmployee;\n",
    "EXEC dbo.UpdateDimStockItem;\n",
    "EXEC dbo.UpdateFactSale;\n",
    "\n",
    "SELECT 'dbo'   AS SchemaName, 'DimCity'        AS TableName, FORMAT(@CountBeforeLoadDimCity,      'N0') AS RecordCount_BeforeLoad, FORMAT(COUNT_BIG(*), 'N0') AS RecordCount_AfterLoad FROM dbo.DimCity         UNION ALL\n",
    "SELECT 'dbo'   AS SchemaName, 'DimCustomer'    AS TableName, FORMAT(@CountBeforeLoadDimCustomer,  'N0') AS RecordCount_BeforeLoad, FORMAT(COUNT_BIG(*), 'N0') AS RecordCount_AfterLoad FROM dbo.DimCustomer     UNION ALL\n",
    "SELECT 'dbo'   AS SchemaName, 'DimEmployee'    AS TableName, FORMAT(@CountBeforeLoadDimEmployee,  'N0') AS RecordCount_BeforeLoad, FORMAT(COUNT_BIG(*), 'N0') AS RecordCount_AfterLoad FROM dbo.DimEmployee     UNION ALL\n",
    "SELECT 'dbo'   AS SchemaName, 'DimStockItem'   AS TableName, FORMAT(@CountBeforeLoadDimStockItem, 'N0') AS RecordCount_BeforeLoad, FORMAT(COUNT_BIG(*), 'N0') AS RecordCount_AfterLoad FROM dbo.DimStockItem    UNION ALL\n",
    "SELECT 'dbo'   AS SchemaName, 'FactSale'       AS TableName, FORMAT(@CountBeforeLoadFactSale,     'N0') AS RecordCount_BeforeLoad, FORMAT(COUNT_BIG(*), 'N0') AS RecordCount_AfterLoad FROM dbo.FactSale\n",
    "ORDER BY\n",
    "    SchemaName,\n",
    "    TableName"
   ]
  },
  {
   "cell_type": "markdown",
   "id": "86bc1e8c-5193-4252-a722-5da27a5764ba",
   "metadata": {
    "microsoft": {
     "language": "sql",
     "language_group": "sqldatawarehouse"
    },
    "nteract": {
     "transient": {
      "deleting": false
     }
    }
   },
   "source": [
    "# Lab 5 - Orchestrating warehouse operations"
   ]
  },
  {
   "cell_type": "markdown",
   "id": "d840700b-1b29-418a-8921-6b6d546c8279",
   "metadata": {
    "microsoft": {
     "language": "sql",
     "language_group": "sqldatawarehouse"
    },
    "nteract": {
     "transient": {
      "deleting": false
     }
    }
   },
   "source": [
    "### 5.3 - Validating dimensional model load"
   ]
  },
  {
   "cell_type": "code",
   "execution_count": null,
   "id": "80f33cd8-edb8-4d74-871e-609ce5b4c146",
   "metadata": {
    "microsoft": {
     "language": "sql",
     "language_group": "sqldatawarehouse"
    }
   },
   "outputs": [],
   "source": [
    "-- Step 5.3.3\n",
    "\n",
    "SELECT 'dbo'   AS SchemaName, 'DimCity'         AS TableName, FORMAT(COUNT_BIG(*), 'N0') AS RecordCount FROM dbo.DimCity                                      UNION ALL\n",
    "SELECT 'dbo'   AS SchemaName, 'DimCustomer'     AS TableName, FORMAT(COUNT_BIG(*), 'N0') AS RecordCount FROM dbo.DimCustomer                                  UNION ALL\n",
    "SELECT 'dbo'   AS SchemaName, 'DimDate'         AS TableName, FORMAT(COUNT_BIG(*), 'N0') AS RecordCount FROM dbo.DimDate                                      UNION ALL\n",
    "SELECT 'dbo'   AS SchemaName, 'DimEmployee'     AS TableName, FORMAT(COUNT_BIG(*), 'N0') AS RecordCount FROM dbo.DimEmployee                                  UNION ALL\n",
    "SELECT 'dbo'   AS SchemaName, 'DimStockItem'    AS TableName, FORMAT(COUNT_BIG(*), 'N0') AS RecordCount FROM dbo.DimStockItem                                 UNION ALL\n",
    "SELECT 'dbo'   AS SchemaName, 'FactSale'        AS TableName, FORMAT(COUNT_BIG(*), 'N0') AS RecordCount FROM dbo.FactSale                                     UNION ALL\n",
    "SELECT 'dbo'   AS SchemaName, 'FactSale - 2013' AS TableName, FORMAT(COUNT_BIG(*), 'N0') AS RecordCount FROM dbo.FactSale WHERE YEAR(InvoiceDateKey) = 2013   UNION ALL\n",
    "SELECT 'dbo'   AS SchemaName, 'FactSale - 2014' AS TableName, FORMAT(COUNT_BIG(*), 'N0') AS RecordCount FROM dbo.FactSale WHERE YEAR(InvoiceDateKey) = 2014   UNION ALL\n",
    "SELECT 'dbo'   AS SchemaName, 'FactSale - 2015' AS TableName, FORMAT(COUNT_BIG(*), 'N0') AS RecordCount FROM dbo.FactSale WHERE YEAR(InvoiceDateKey) = 2015   UNION ALL\n",
    "SELECT 'dbo'   AS SchemaName, 'FactSale - 2016' AS TableName, FORMAT(COUNT_BIG(*), 'N0') AS RecordCount FROM dbo.FactSale WHERE YEAR(InvoiceDateKey) = 2016   UNION ALL\n",
    "SELECT 'stage' AS SchemaName, 'DimCity'         AS TableName, FORMAT(COUNT_BIG(*), 'N0') AS RecordCount FROM stage.DimCity                                    UNION ALL\n",
    "SELECT 'stage' AS SchemaName, 'DimCustomer'     AS TableName, FORMAT(COUNT_BIG(*), 'N0') AS RecordCount FROM stage.DimCustomer                                UNION ALL\n",
    "SELECT 'stage' AS SchemaName, 'DimEmployee'     AS TableName, FORMAT(COUNT_BIG(*), 'N0') AS RecordCount FROM stage.DimEmployee                                UNION ALL\n",
    "SELECT 'stage' AS SchemaName, 'DimStockItem'    AS TableName, FORMAT(COUNT_BIG(*), 'N0') AS RecordCount FROM stage.DimStockItem                               UNION ALL\n",
    "SELECT 'stage' AS SchemaName, 'FactSale'        AS TableName, FORMAT(COUNT_BIG(*), 'N0') AS RecordCount FROM stage.FactSale                                   UNION ALL\n",
    "SELECT 'stage' AS SchemaName, 'FactSale - 2013' AS TableName, FORMAT(COUNT_BIG(*), 'N0') AS RecordCount FROM stage.FactSale WHERE YEAR(InvoiceDateKey) = 2013 UNION ALL\n",
    "SELECT 'stage' AS SchemaName, 'FactSale - 2014' AS TableName, FORMAT(COUNT_BIG(*), 'N0') AS RecordCount FROM stage.FactSale WHERE YEAR(InvoiceDateKey) = 2014 UNION ALL\n",
    "SELECT 'stage' AS SchemaName, 'FactSale - 2015' AS TableName, FORMAT(COUNT_BIG(*), 'N0') AS RecordCount FROM stage.FactSale WHERE YEAR(InvoiceDateKey) = 2015 UNION ALL\n",
    "SELECT 'stage' AS SchemaName, 'FactSale - 2016' AS TableName, FORMAT(COUNT_BIG(*), 'N0') AS RecordCount FROM stage.FactSale WHERE YEAR(InvoiceDateKey) = 2016\n",
    "ORDER BY\n",
    "    SchemaName,\n",
    "    TableName"
   ]
  },
  {
   "cell_type": "markdown",
   "id": "ca73812c-d9f6-45e7-8060-15915168439f",
   "metadata": {
    "microsoft": {
     "language": "sql",
     "language_group": "sqldatawarehouse"
    },
    "nteract": {
     "transient": {
      "deleting": false
     }
    }
   },
   "source": [
    "# Lab 6 - Advanced query techniques"
   ]
  },
  {
   "cell_type": "markdown",
   "id": "9f439ff0-fce1-4021-afe3-3bb482b9fdeb",
   "metadata": {
    "microsoft": {
     "language": "sql",
     "language_group": "sqldatawarehouse"
    },
    "nteract": {
     "transient": {
      "deleting": false
     }
    }
   },
   "source": [
    "### 6.1 - Time travel"
   ]
  },
  {
   "cell_type": "code",
   "execution_count": null,
   "id": "ce9601b0-6006-4196-9317-11fd2f1d0d9e",
   "metadata": {
    "microsoft": {
     "language": "sql",
     "language_group": "sqldatawarehouse"
    }
   },
   "outputs": [],
   "source": [
    "-- Step 6.1.3\n",
    "\n",
    "SELECT 'dbo.FactSale'   AS TableName, COUNT(*) AS RecordCount FROM dbo.FactSale   WHERE InvoiceDateKey = '2013-01-01' UNION ALL\n",
    "SELECT 'stage.FactSale' AS TableName, COUNT(*) AS RecordCount FROM stage.FactSale WHERE InvoiceDateKey = '2013-01-01'\n",
    "ORDER BY TableName DESC"
   ]
  },
  {
   "cell_type": "code",
   "execution_count": null,
   "id": "c8b6f612-be8e-46c1-88ec-3afa5fe0eb7c",
   "metadata": {
    "microsoft": {
     "language": "sql",
     "language_group": "sqldatawarehouse"
    }
   },
   "outputs": [],
   "source": [
    "-- Step 6.1.4\n",
    "\n",
    "DELETE FROM dbo.FactSale WHERE InvoiceDateKey = '2013-01-01'\n",
    "SELECT COUNT(*) AS RecordCount FROM dbo.FactSale WHERE InvoiceDateKey = '2013-01-01'"
   ]
  },
  {
   "cell_type": "code",
   "execution_count": null,
   "id": "1482b65d-cd1f-443d-b83a-300c66bf74aa",
   "metadata": {
    "microsoft": {
     "language": "sql",
     "language_group": "sqldatawarehouse"
    }
   },
   "outputs": [],
   "source": [
    "-- Step 6.1.5\n",
    "\n",
    "DECLARE @BeforeTheAccident VARCHAR(23) = (SELECT CONVERT(VARCHAR(23), DATEADD(MINUTE, -30, GETDATE()), 126))\n",
    "EXEC ('SELECT COUNT(*) FROM dbo.FactSale WHERE InvoiceDateKey = ''2013-01-01'' OPTION (FOR TIMESTAMP AS OF ''' + @BeforeTheAccident + ''')');"
   ]
  },
  {
   "cell_type": "markdown",
   "id": "ce6b638e-b585-49e0-b576-47c2f778e562",
   "metadata": {
    "microsoft": {
     "language": "sql",
     "language_group": "sqldatawarehouse"
    },
    "nteract": {
     "transient": {
      "deleting": false
     }
    }
   },
   "source": [
    "### 6.2 - Clone a table"
   ]
  },
  {
   "cell_type": "code",
   "execution_count": null,
   "id": "aafa4ca0-53e2-45b0-986b-3fae45c2dead",
   "metadata": {
    "microsoft": {
     "language": "sql",
     "language_group": "sqldatawarehouse"
    }
   },
   "outputs": [],
   "source": [
    "-- Step 6.2.1\n",
    "\n",
    "DROP TABLE IF EXISTS dbo.FactSale_Recovery\n",
    "\n",
    "DECLARE @BeforeTheAccident VARCHAR(23) = (SELECT CONVERT(VARCHAR(23), DATEADD(MINUTE, -30, GETDATE()), 126))\n",
    "\n",
    "EXEC ('CREATE TABLE dbo.FactSale_Recovery AS CLONE OF dbo.FactSale AT ''' + @BeforeTheAccident + '''')"
   ]
  },
  {
   "cell_type": "code",
   "execution_count": null,
   "id": "b2e80668-0d08-4a8d-88db-1ec4919856af",
   "metadata": {
    "microsoft": {
     "language": "sql",
     "language_group": "sqldatawarehouse"
    }
   },
   "outputs": [],
   "source": [
    "-- Step 6.2.2\n",
    "\n",
    "SELECT 'dbo.FactSale'          AS TableName, COUNT(*) AS RecordCount FROM dbo.FactSale          WHERE InvoiceDateKey = '2013-01-01' UNION ALL\n",
    "SELECT 'dbo.FactSale_Recovery' AS TableName, COUNT(*) AS RecordCount FROM dbo.FactSale_Recovery WHERE InvoiceDateKey = '2013-01-01' UNION ALL\n",
    "SELECT 'stage.FactSale'        AS TableName, COUNT(*) AS RecordCount FROM stage.FactSale        WHERE InvoiceDateKey = '2013-01-01'\n",
    "ORDER BY TableName DESC"
   ]
  },
  {
   "cell_type": "code",
   "execution_count": null,
   "id": "f8a623f4-4de5-4e85-a21e-7dcb3a90a45f",
   "metadata": {
    "microsoft": {
     "language": "sql",
     "language_group": "sqldatawarehouse"
    }
   },
   "outputs": [],
   "source": [
    "-- Step 6.2.3\n",
    "\n",
    "INSERT INTO dbo.FactSale\n",
    "SELECT * FROM dbo.FactSale_Recovery WHERE InvoiceDateKey = '2013-01-01'\n",
    "\n",
    "SELECT 'dbo.FactSale'          AS TableName, COUNT(*) AS RecordCount FROM dbo.FactSale          WHERE InvoiceDateKey = '2013-01-01' UNION ALL\n",
    "SELECT 'dbo.FactSale_Recovery' AS TableName, COUNT(*) AS RecordCount FROM dbo.FactSale_Recovery WHERE InvoiceDateKey = '2013-01-01' UNION ALL\n",
    "SELECT 'stage.FactSale'        AS TableName, COUNT(*) AS RecordCount FROM stage.FactSale        WHERE InvoiceDateKey = '2013-01-01'\n",
    "ORDER BY TableName DESC"
   ]
  },
  {
   "cell_type": "markdown",
   "id": "2cf58db0-1b60-45ab-96b3-836aab7415f9",
   "metadata": {
    "microsoft": {
     "language": "sql",
     "language_group": "sqldatawarehouse"
    },
    "nteract": {
     "transient": {
      "deleting": false
     }
    }
   },
   "source": [
    "# Lab 7 - Data warehouse management"
   ]
  },
  {
   "cell_type": "markdown",
   "id": "11317280-dc27-4725-a21e-a3a2533c03c2",
   "metadata": {
    "microsoft": {
     "language": "sql",
     "language_group": "sqldatawarehouse"
    },
    "nteract": {
     "transient": {
      "deleting": false
     }
    }
   },
   "source": [
    "### 7.1 - Checking important warehouse settings"
   ]
  },
  {
   "cell_type": "code",
   "execution_count": null,
   "id": "d2c03faa-4e2b-45d7-b7b6-f712a909285b",
   "metadata": {
    "microsoft": {
     "language": "sql",
     "language_group": "sqldatawarehouse"
    }
   },
   "outputs": [],
   "source": [
    "-- Step 7.1.3\n",
    "\n",
    "SELECT\n",
    "    name,\n",
    "    collation_name,\n",
    "    CASE collation_name\n",
    "        WHEN 'Latin1_General_100_BIN2_UTF8'           THEN 1\n",
    "        WHEN 'Latin1_General_100_CI_AS_KS_WS_SC_UTF8' THEN 0\n",
    "        ELSE NULL\n",
    "        END AS is_case_sensitive,\n",
    "    snapshot_isolation_state_desc,\n",
    "    is_auto_create_stats_on,\n",
    "    is_auto_update_stats_on,\n",
    "    data_lake_log_publishing_desc,\n",
    "    CASE data_lake_log_publishing_desc\n",
    "        WHEN 'AUTO' THEN 1\n",
    "        WHEN 'PAUSED' THEN 0\n",
    "        ELSE NULL\n",
    "        END AS is_delta_lake_log_publishing_on,\n",
    "    is_vorder_enabled\n",
    "FROM sys.databases\n",
    "WHERE name = DB_NAME()"
   ]
  },
  {
   "cell_type": "markdown",
   "id": "e143d944-ec87-48db-89ae-65fa08c568e1",
   "metadata": {
    "microsoft": {
     "language": "sql",
     "language_group": "sqldatawarehouse"
    },
    "nteract": {
     "transient": {
      "deleting": false
     }
    }
   },
   "source": [
    "### 7.2 - Statistics management"
   ]
  },
  {
   "cell_type": "code",
   "execution_count": null,
   "id": "ded0b1b6-6790-4146-8d9e-ba5ff708f0f8",
   "metadata": {
    "microsoft": {
     "language": "sql",
     "language_group": "sqldatawarehouse"
    }
   },
   "outputs": [],
   "source": [
    "-- Step 7.2.1\n",
    "\n",
    "SELECT\n",
    "    schema_name(o.schema_id) AS schema_name,\n",
    "    object_name(s.object_id) AS [object_name],\n",
    "    c.name AS [column_name],\n",
    "    s.name AS [stats_name],\n",
    "    STATS_DATE(s.object_id, s.stats_id) AS [stats_update_date], \n",
    "    CASE\n",
    "        WHEN s.auto_created = 1 THEN 'System'\n",
    "        WHEN s.user_created = 1 THEN 'User'\n",
    "        ELSE NULL END AS stats_created_by\n",
    "FROM sys.stats AS s \n",
    "INNER JOIN sys.objects AS o \n",
    "    ON o.object_id = s.object_id \n",
    "LEFT JOIN sys.stats_columns AS sc \n",
    "    ON s.object_id = sc.object_id \n",
    "    AND s.stats_id = sc.stats_id \n",
    "LEFT JOIN sys.columns AS c \n",
    "    ON sc.object_id = c.object_id \n",
    "    AND c.column_id = sc.column_id\n",
    "WHERE\n",
    "    o.type = 'U'\n",
    "    AND (s.auto_created = 1 or s.user_created = 1)\n",
    "ORDER BY\n",
    "    schema_name,\n",
    "    object_name,\n",
    "    column_name"
   ]
  },
  {
   "cell_type": "code",
   "execution_count": null,
   "id": "8ea8fb8a-cbd1-43a0-98b2-496010e51baa",
   "metadata": {
    "microsoft": {
     "language": "sql",
     "language_group": "sqldatawarehouse"
    }
   },
   "outputs": [],
   "source": [
    "-- Step 7.2.2\n",
    "\n",
    "CREATE STATISTICS dbo_DimCity_CitySK ON dbo.DimCity (CitySK) WITH FULLSCAN;\n",
    "CREATE STATISTICS dbo_DimCustomer_CustomerSK ON dbo.DimCustomer (CustomerSK) WITH FULLSCAN;\n",
    "CREATE STATISTICS dbo_DimDate_Date ON dbo.DimDate (Date) WITH FULLSCAN;\n",
    "CREATE STATISTICS dbo_DimEmployee_EmployeeSK ON dbo.DimEmployee (EmployeeSK) WITH FULLSCAN;\n",
    "CREATE STATISTICS dbo_DimStockItem_StockItemSK ON dbo.DimStockItem (StockItemSK) WITH FULLSCAN;"
   ]
  },
  {
   "cell_type": "code",
   "execution_count": null,
   "id": "f9a08623-3a89-4618-b9ab-95f00626bf19",
   "metadata": {
    "microsoft": {
     "language": "sql",
     "language_group": "sqldatawarehouse"
    }
   },
   "outputs": [],
   "source": [
    "-- Step 7.2.3\n",
    "\n",
    "SELECT\n",
    "    schema_name(o.schema_id) AS schema_name,\n",
    "    object_name(s.object_id) AS [object_name],\n",
    "    c.name AS [column_name],\n",
    "    s.name AS [stats_name],\n",
    "    STATS_DATE(s.object_id, s.stats_id) AS [stats_update_date], \n",
    "    CASE\n",
    "        WHEN s.auto_created = 1 THEN 'System'\n",
    "        WHEN s.user_created = 1 THEN 'User'\n",
    "        ELSE NULL END AS stats_created_by\n",
    "FROM sys.stats AS s \n",
    "INNER JOIN sys.objects AS o \n",
    "    ON o.object_id = s.object_id \n",
    "LEFT JOIN sys.stats_columns AS sc \n",
    "    ON s.object_id = sc.object_id \n",
    "    AND s.stats_id = sc.stats_id \n",
    "LEFT JOIN sys.columns AS c \n",
    "    ON sc.object_id = c.object_id \n",
    "    AND c.column_id = sc.column_id\n",
    "WHERE\n",
    "    o.type = 'U'\n",
    "    AND (s.auto_created = 1 or s.user_created = 1)\n",
    "ORDER BY\n",
    "    schema_name,\n",
    "    object_name,\n",
    "    column_name"
   ]
  },
  {
   "cell_type": "markdown",
   "id": "d0b9a5ef-828f-487d-ab93-d1c226733b94",
   "metadata": {
    "microsoft": {
     "language": "sql",
     "language_group": "sqldatawarehouse"
    },
    "nteract": {
     "transient": {
      "deleting": false
     }
    }
   },
   "source": [
    "### 7.3 - Query monitoring"
   ]
  },
  {
   "cell_type": "code",
   "execution_count": null,
   "id": "c4befff4-8ae1-4fa1-b8d9-2783ac4f6502",
   "metadata": {
    "microsoft": {
     "language": "sql",
     "language_group": "sqldatawarehouse"
    }
   },
   "outputs": [],
   "source": [
    "-- Step 7.3.1\n",
    "\n",
    "SELECT TOP 10 * FROM queryinsights.exec_requests_history"
   ]
  }
 ],
 "metadata": {
  "a365ComputeOptions": null,
  "dependencies": {
   "lakehouse": null,
   "warehouse": {}
  },
  "kernel_info": {
   "name": "sqldatawarehouse"
  },
  "kernelspec": {
   "display_name": "synapse_pyspark",
   "language": null,
   "name": "synapse_pyspark"
  },
  "language_info": {
   "name": "sql"
  },
  "microsoft": {
   "language": "sql",
   "language_group": "sqldatawarehouse",
   "ms_spell_check": {
    "ms_spell_check_language": "en"
   }
  },
  "nteract": {
   "version": "nteract-front-end@1.0.0"
  },
  "sessionKeepAliveTimeout": 0,
  "spark_compute": {
   "compute_id": "/trident/default",
   "session_options": {
    "conf": {
     "spark.synapse.nbs.session.timeout": "1200000"
    }
   }
  }
 },
 "nbformat": 4,
 "nbformat_minor": 5
}
